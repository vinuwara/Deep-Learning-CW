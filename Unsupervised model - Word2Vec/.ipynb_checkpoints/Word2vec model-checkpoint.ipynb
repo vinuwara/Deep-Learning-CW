{
 "cells": [
  {
   "cell_type": "markdown",
   "id": "2f3381ed",
   "metadata": {},
   "source": [
    "# Sentiment Analysis using - Word2Vec model"
   ]
  },
  {
   "cell_type": "code",
   "execution_count": 8,
   "id": "4db38c98",
   "metadata": {},
   "outputs": [],
   "source": [
    "import numpy as np\n",
    "import pandas as pd\n",
    "from tensorflow.keras.preprocessing.text import text_to_word_sequence\n",
    "from gensim.models import Word2Vec\n"
   ]
  },
  {
   "cell_type": "code",
   "execution_count": 9,
   "id": "7baa2acb",
   "metadata": {},
   "outputs": [],
   "source": [
    "# Function to load and preprocess the reviews dataset in chunks\n",
    "def load_data(json_file_path, text_field, chunk_size=None, percentage_of_sentences=None):\n",
    "    # Load the JSON data in chunks using pandas\n",
    "    chunks = pd.read_json(json_file_path, lines=True, chunksize=chunk_size)\n",
    "\n",
    "    # Initialize empty list to store sentences\n",
    "    sentences = []\n",
    "\n",
    "    # Iterate through chunks\n",
    "    for chunk in chunks:\n",
    "        # Extract the text field from the DataFrame\n",
    "        chunk_text = chunk[text_field].values\n",
    "\n",
    "        # Take only a given percentage of the current chunk if specified\n",
    "        if percentage_of_sentences is not None:\n",
    "            assert (percentage_of_sentences > 0 and percentage_of_sentences <= 100)\n",
    "            \n",
    "            len_chunk = int(percentage_of_sentences / 100 * len(chunk_text))\n",
    "            chunk_text = chunk_text[:len_chunk]\n",
    "\n",
    "        # Tokenize the sentences\n",
    "        chunk_tokens = [text_to_word_sequence(_) for _ in chunk_text]\n",
    "        print(chunk_text)\n",
    "        # Append the tokenized sentences to the list\n",
    "        sentences.extend(chunk_tokens)\n",
    "        \n",
    "\n",
    "    return sentences"
   ]
  },
  {
   "cell_type": "code",
   "execution_count": 10,
   "id": "8d8708ec",
   "metadata": {},
   "outputs": [],
   "source": [
    "# Specify the path to your JSON file and the field containing the review text\n",
    "json_file_path = r'C:\\Users\\Administrator\\Documents\\GitHub\\Datasets\\yelp_academic_dataset_review.json'\n",
    "text_field = 'text'\n",
    "chunk_size = 1000000  # Adjust the chunk size based on your available memory"
   ]
  },
  {
   "cell_type": "code",
   "execution_count": 11,
   "id": "6eb7797b",
   "metadata": {},
   "outputs": [],
   "source": [
    "# Initialize Word2Vec model outside the loop\n",
    "word2vec = Word2Vec(vector_size=60, min_count=10, window=10)"
   ]
  },
  {
   "cell_type": "code",
   "execution_count": 12,
   "id": "bb2d858e",
   "metadata": {},
   "outputs": [],
   "source": [
    "# Specify the number of epochs you want\n",
    "epochs = 10"
   ]
  },
  {
   "cell_type": "code",
   "execution_count": 13,
   "id": "e8f0f089",
   "metadata": {},
   "outputs": [
    {
     "name": "stdout",
     "output_type": "stream",
     "text": [
      "Training Word2Vec - Epoch 1\n",
      "[\"If you decide to eat here, just be aware it is going to take about 2 hours from beginning to end. We have tried it multiple times, because I want to like it! I have been to it's other locations in NJ and never had a bad experience. \\n\\nThe food is good, but it takes a very long time to come out. The waitstaff is very young, but usually pleasant. We have just had too many experiences where we spent way too long waiting. We usually opt for another diner or restaurant on the weekends, in order to be done quicker.\"\n",
      " \"I've taken a lot of spin classes over the years, and nothing compares to the classes at Body Cycle. From the nice, clean space and amazing bikes, to the welcoming and motivating instructors, every class is a top notch work out.\\n\\nFor anyone who struggles to fit workouts in, the online scheduling system makes it easy to plan ahead (and there's no need to line up way in advanced like many gyms make you do).\\n\\nThere is no way I can write this review without giving Russell, the owner of Body Cycle, a shout out. Russell's passion for fitness and cycling is so evident, as is his desire for all of his clients to succeed. He is always dropping in to classes to check in/provide encouragement, and is open to ideas and recommendations from anyone. Russell always wears a smile on his face, even when he's kicking your butt in class!\"\n",
      " 'Family diner. Had the buffet. Eclectic assortment: a large chicken leg, fried jalapeño, tamale, two rolled grape leaves, fresh melon. All good. Lots of Mexican choices there. Also has a menu with breakfast served all day long. Friendly, attentive staff. Good place for a casual relaxed meal with no expectations. Next to the Clarion Hotel.'\n",
      " ...\n",
      " 'I was coming back from the Farmers market today and decided to stop by the Turnip Truck for the first time. Given its location in the Gulch and a lot of talk about how amazing this place was.. I really expected it to be on par in price if not higher then Whole foods. I am so excited to say I was wrong. They had so many items on sale that were significantly lower then even Publix. I love how they even have a juice bar/hot lunch bar. You can purchase beer singles for $1.99 and have it in store! The store was a lot larger then I thought when  I noticed that the meats were sectioned off. I love how they sell individual portion sizes of fish. For example, a Tilapia filet was ~$2. It really makes it easy to stop by on a weekday night to pick up some quick items to make dinner or just get something from the prepared foods section. I would not come to the Turnip truck to buy vegetables and fruits as they were pricier. However, worth noting is that they sell farm fresh eggs for $4 which is the equivalent price point as the farmers market. I am still amazed at the sales they were running in the store. I got 2 bags of hummus chips for .99cents each! \\n\\nAlso, I wanted to say that their customer service is amazing. I really enjoyed meeting the manager and the cashiers were very helpful!'\n",
      " 'Absolutely perfect meal for me. The food is clean, good quality simple food. Great flavored and sauces. Good pricing. Nice clean environment.'\n",
      " \"Braised beef Short Rib! Asparagus on the side.  This meal was outstanding.  I stumbled across this place when the restaurant I had planned on going to was at full capacity.  The wait staff was very friendly and knowledgeable.  Food came out in great time.   The rib was cooked to perfection!  I didn't leave anything behind on my plate.  Definitely recommend.  Food was fresh.  Experience was great.\"]\n",
      "['Pleasantly intrigued by the combination of breakfast and Thai/Chinese, so my sister and I had to swing through during our road trip from California to Georgia.\\n\\nHillbilly fried rice -- Two over-easy eggs over fried rice chopped ham, bacon, and sauasage made into fried rice... an incredible meal at 9:30am.\\n\\nGra pow -- Sister enjoyed this beef and rice entree. Commented that it was sweet and yummy with added flakey red peppers.\\n\\nTom yum soup -- Mintly fragant (shoutouts to lemongrass) and delicious. Wished I had ordered a larger size.\\n\\nShoutouts to the waiter bro for the friendly service. I would return during future road adventures.'\n",
      " \"I am not sure what I was expecting, but this was over-the-top phenomenal. Each bite was a composed wonder of smoke and flavors that melded to perfection. Our table of four shared three different appetizers, and four dinners, sharing bites of all. I still can't tell you our favorite, except you must try the bacon wrapped white cheddar cheese appetizer. So good that we will be back to try more!\"\n",
      " 'Mmm....still thinking about it right now. The Terakawa House Special is awesome, the pork just melts in your mouth. My girlfriend and I also ordered the takoyaki as an appetizer which was delicious. Our friends got the pork buns which were just mediocre. Ramen broth was great, the price was right and extra noodles for $1.50?! Definitely a must-go-to spot.'\n",
      " ...\n",
      " 'The atmosphere in Major Restaurant was definitely beautiful, calming and different. I felt transported to a new place by the photos and artwork! I came with a friend and our waiter was so friendly we felt really welcome and at home. We ordered the combination platter because it offered 4 meat combinations (lamb for us) and seven vegetable sides. We were also given extra bread and three side items, spicy and medium sauce as well as handmade crumble cheese. As you may know it is traditional to wash your hands and eat the food with your hands using the bread to scoop up what you wanted. We requested spoons to make the scooping easier but mainly used our hands to eat the food. The food also sits on the gray spongy bread that accompanies the main dish and so when you \"eat it all\" you literally clear the entire plate! And that\\'s what we did! Nothing was left! After enjoying our food my friend and I vowed to return to try the other combinations! I look forward to the shrimp combination and hope my out of town family members can join me there! It\\'s a very enchanting place, relaxing, and great to have a long chat. Even though they closed at 9pm (we accidentally stayed until 9:15) they did not rush us out or make us feel unwelcome in any way and we were so grateful and happy! Very excited to return!'\n",
      " \"We have been meaning to try this place and I can't believe we waited so long! We came for brunch and everything was amazing. I can't wait to come back and try their lunch\"\n",
      " 'Blessed to have this place in quaint safety harbor. Healthy food, wonderful staff. Bowls are amazing as are the coffees. Kids live the healthy options. Salads and sandwiches also fantastic. Always feel great after eating here!']\n",
      "['Pros: Makaylah: our bartender and server, she was amazing, good our orders perfect, very friendly and super accommodating. Sit at the bar if you can and get her :). Thanks Makaylah!!!! \\n\\nThis time we had fish tacos and blackened grouper dinner comes with really tasty bora bora rice and mango salsa(4.5 stars), 2 dozens of oysters(love-very fresh like last time), and of course tuna poke-man..all were quite good!!! \\n \\nNote: the wait was as expected for a Friday night here 1-1.5 hours, it was a full house with folks waiting either out front on deck or at bar in the back deck, we ultimately found seating at bar after about 45 mins of waiting.. They do have live music which made waiting really nice and the weather was just right, very enjoyable ambience.\\n\\nAs for the check-in process:  you put in your name and your cell and they text you when your table is ready..pretty smooth operation.\\n\\nOverall, Good Friday night experience and great service!'\n",
      " \"Authentic and Perfect! \\nAs someone who's as born in Puerto Rico this restaurant nailed everything from appetizers drinks and entrees!!!\\nThe sangrias are to die for and a total must if you are dinning in.\\nI have 0 complaints, so happy we found this place and it won't be the last time we come in. \\nMy only suggestion is that they get a nice Puerto Rican inspired mural in the front of the restaurant for people to take pictures while dinning outside.\"\n",
      " \"Great fresh food for lunch, I had the appetizer and the platter, both chicken and beef and it was delicious. Let's just say it's one of the best places I tried grilled chicken or beef. The flavors of the sauces and coal was very surprising as I was used to deep fried food truck foods. Definitely recommend this place. Make sure you save to room for ice cream donut, which is out of this world.\"\n",
      " ...\n",
      " \"Great value, consistent with quality and taste, and hands-down, best Pho broth in the city!\\n\\nMost pho places, to my understanding, use flavour enhancing powders (that you can purchase from most Asian supermarkets) in the broth.  Tau Bay, according to one of the owner's friends, creates the savoury, rich taste from scratch with raw materials: beef bones and briskets.\\n\\nHaving been to more than 30 different Pho places between Vancouver, Calgary, Edmonton and Toronto, Tau Bay definitely has the best Vietnamese noodle soup.  If you like your soup a bit spicy, their home-made chill oil is also to die for.  It adds to the flavour of the broth very well.\\n\\nYou might be wondering why I've only rated 4 stars if i LOVE it so much.  This is a good time for me to clarify my position on all my reviews.  Aside from the food, I tend to rate my overall dining experience in every place I visit, and the only drawback for me with Tau Bay is the payment option.  I like, and have always preferred, to pay with cards rather than cash.  There have been times when lack of cash deterred me from enjoying a nice bowl of Tau Bay pho.\"\n",
      " 'Convenient location. Ate dinner there last nite. It was our anniversary and we told them so. We ordered the stuffed grouper and the filet. After waiting too long for food arrival, the host checked on the order and out it came. My filet was great, but my husbands grouper had a very dry stuffing. We told the waitress and she offered a sauce. Not a good thing . Disappointing anniversary meal.'\n",
      " 'Let me just start this review by saying I am a bit biased as my love for tacos takes hold over everything. Now that that has been said it would be safe to say that this place is legit. I am not a fan of the loop as its raging with hipster and college students later at night, but this hidden gem of a delight is tucked back in the heart of Delmar in the place of what used to be the old Delmar Lounge. \\n\\nPros:\\n\\n1. The food is great and reasonably priced for the fact their kitchen is open late even on weekdays. For people like me that consistently get off at 9pm, that means my friends and I have a place to go to get a drink and let off some steam. \\n\\n2. The drinks are reasonably prices as well. I didn\\'t feel bad paying for a beer.\\n\\n3. They have duck tacos. That\\'s right.. Duck. \\n\\nCons: \\n\\n1. As its a newer joint, the waitressing staff isn\\'t that great. I\\'ve been there 3 times over the past 2 weeks with different friends and the bartender has been consistently backed up to the point we had to wait 5-10 minutes for our beverages from the bar. The common catch phrase when the waitress would finally bring our drinks would usually be \"I\\'d like to preorder my next drink.\"\\n\\n2. Being an establishment that sells tacos and a variety of them, you would think they would have a system down for keeping good track of whom orders what in larger parties. Instead, when I was there with a group of 6 and was getting ready to leave, they charged me for 2 tacos I didn\\'t eat because they had forgotten to charge another person that had already left. I was really not pleased. \\n\\nThat\\'s all I really have. It\\'s a great place if you get the right waitress or waiter. Speed of service with the food is amazing. Our food was at the table within of finally ordering. I recommend giving it a shot.']\n"
     ]
    },
    {
     "name": "stdout",
     "output_type": "stream",
     "text": [
      "[\"So this place has the best OUTDOOR SEATING in tucson! \\n\\nThe place has a cute little bar with wooden beams inside. \\nDrinks were very tasty and the bartenders were very professional and really knew there stuff (master mixologists).\\n\\nBEST MUSIC! really supports local artists! We went to see a friend play at this place and the group before him was very lively and and energetic and the soloist after our friend was also nice.\\nThe second time i went, was on a saturday night and let me tell you IT WAS INCREDIBLE! 2 Hip hop DJ's were spinning great hits from back in the day and mixed it with some of the better top 40 music! I really enjoyed the crowed and the crowed seemed to enjoy the music. \\n\\nI have to admit I was a little disappointed with the late night taco menu... but in their defense it is bar food. their fish tacos were kinda blah and the sauces could be more authentic (home-made) it is Tucson after all.\\n\\nTHE BATHROOM:\\nas far as I know their is only 1 bathroom in this establishment so there always seem to be a line. \\nThis place tends to attract charismatic people so you can be sure to have a good conversation while you wait.\"\n",
      " 'Great food and prices. I recommend the gyro. Park across the street next to the check cashing place. Parking lot is dinky. Weird double drive thru set up. I guess my critique is  that sitting areas are limited and can be awkward.'\n",
      " \"Excellent pizza, salad and service! I came for a slice for lunch with colleagues. Couldn't take advantage of the pint n slice special but will be back for it. The salad was fresh and the dressing (ranch) yummy. A slice is big enough to fill you up for lunch. Service was fast and friendly. Will be back for sure!\"\n",
      " ...\n",
      " 'This is my favorite place to eat,my favorite dish is chicken byrani,the workers are very nice and pleasant,the prices are fantastic.'\n",
      " 'Disheartened by the lack of service. The restaurant was not full at all, yet the hostess (older lady), attempted to sit us away form everyone else over by the window. I politely asked for a booth (just like everyone else). Once seated, and after 6 minutes, I had to stop a waiter and ask him who was servicing our table. Surprise, it happened to be him. Next, I asked if the pickel bar was for everyone. Surprise again, it was. (Why wouldnt he have told me that once he took our order??) After going to the pickle bar, I sat looking at my bowl for about 3 minutes.. Why? Because we we never given any place settings (mat, utensils, napkin). I had to yet AGAIN ask for it. Now the food arrives and less than 2 minutes later, the server placed our check in the middle of the table. Now, prior to our food arriving, I\\'d told him that I was going to also order something to-go. So, why would you give me my check?? I had to stop him a few times because he forgot to bring an item or a food item wasn\\'t delivered, etc..... This experience was not welcoming at all, in fact, I felt as if my son and I were not wanted. Now I am not one the play the race card, but when we are the only people of color in the restaurant at that time and we receive lesser-than service, I couldn\\'t help but think this. My 15yr old even noticed it. I didn\\'t have to say a word. Especially when he says \"Wow Mom, that table (of 5) got their food fast\". I could only respond \"I know\". I cannot take anything away from the delicious food, however, the staff needs some work.'\n",
      " 'After we spent two hours driving to a different restaurant only to find out it was closed we headed here to the bistro. I must say it was the worst experience at an Italian restaurant that I have ever experienced. \\nOur waitress Mary was non attentive and acted like we were bugging her each time we asked for something, drinks didn\\'t get refilled until we asked for a refill even though she came by while they were empty to drop off food. She rarely came by the table and acted like the food was the best thing yet!..... I have news for you.\\nThe food was not good at all the pizza was bland and could have used another couple of minutes in the oven, the spinach dip came out looking like she just sprinkled mozzarella cheese on the top without melting it, and again it had no flavor. The bread it came with was overcooked with minimal flavor. DO NOT GET A CANNOLI from here it was soggy and once again lacked flavor and had soggy pistachios on both ends. The best thing there was my coke! It was perfect aside from it never got refilled unless I caught her for a split second and asked.\\nLastly they added 18% gratuity... we had four adults and two babies... one baby didn\\'t eat and the other bibles on some pizza.... no where on the menu does it say gratuity would be added for X amount of people in a party nor did they tell us before seating us... and since when were kids counted as people in a gratuity charge?! I wanted to speak to the manager but of course my husband calmed me down and told me it\\'s fine -_- I just wanted to ask why they would add gratuity on without even notifying us and even more so when we only had four adults that the waitress delt with and served while the kids sat there like potatoes this isn\\'t because I wasn\\'t going to tip her, I\\'m a great tipper having worked in this industry for years not only front of house but also in the accounting area where I know how much the servers make after tip and before so I know what a big chunk tips play in their daily take home and even with her 18% gratuity she threw on our checks I\\'m not sure she even deserved that. \\nOverall DONT GO HERE. A big waste!\\n\\nOh and did I mention she didn\\'t properly swipe my husbands card so when she came back with our checks she said, \"so who had the spinach dip? Your card only ran 24.00 you owe us 6.something\" I looked at her like wtf? Of course my husband was upset and said I\\'m sorry? You need to run that again. Of course she did and came back saying, \"it went through darn computers\".\\nFirst of all who even comes back saying something like that after a card doesn\\'t go through? Not to mention so everyone can hear that? Especially when she was the one who made the mistake! Needless to say it was embarrassing and didn\\'t need to happen if she did her job right.']\n",
      "['I never knew what \"Peak\" roasted coffee was until I started drinking their awesome coffee years ago.\\n\\nI was sooo happy that they opened their lovely shop.\\n\\nGreat coffee and great atmosphere!  What more could you ask for?'\n",
      " \"The wagyu did its best to rescue Morimoto from being a below average meal. \\n\\nFood:\\n\\nWe ordered the rock shrimp, the wagyu dumplings, cucumber and shiso rolls, the chicken, the wagyu fillet, and the chocolate dome flambee. \\n\\nThe shrimp were tasty and cooked well, however some of them were pretty soggy so they were inconsistent. \\n\\nWagyu dumplings were delicious but the broth/sauce they were served in tasted very bland and watery. \\n\\nCucumber rolls were odd. They're prepared with ume, which we were told is a fermented plum paste. Maybe we don't like ume, but the person I was dining with found the flavor pretty revolting so I finished them for us, and I was not impressed with the way they tasted. Definitely over complicating a dish that should remain simple.\\n\\nThe chicken breast was fair, but the portion size was MINUSCULE. It basically was $26 for a slice of chicken breast. Not value.\\n\\nThe wagyu, though. Wow. Yes, it was expensive. And yes, it was so worth it. This steak and the sauce it was paired with was one of the most delicious bites I've tasted in a long time, and I'm finding myself salivating recalling it right now. The cook was perfect, the texture was moist and juicy and tender, and the flavor was incredibly intense and savory. One of the best steaks I've ever eaten. \\n\\nDessert was a let down, also. Other than the flambee, this dish was basically a pile of chocolate sauce with no real depth of flavor. Some dry crumbly cookies accompanied the pile of molten/scorched chocolate on the plate. Definitely not my favorite. Fun presentation though.\\n\\nAmbiance:\\n\\nVery contemporary feel with flowing shapes throughout the entire restaurant. I appreciated the consistency of this fluid theme. \\n\\nService:\\n\\nFairly sub par. We waited a while for our food and didn't receive water for a long time (~30 min.) too. \\n\\nWe weren't impressed with the experience at Morimoto. This is my third time in attendance, and for the price I have to say it's definitely not worth it. If I had an amazing experience with attentive service and a more consistent quality of food across the meal, they'd receive a much greater review from me. So far, though, I wouldn't say it's worth the hype.\"\n",
      " 'Favorite sushi place. So many options, fresh food and a nice atmosphere. Good date night spot.'\n",
      " ...\n",
      " 'This Starbucks location is very convenient!  My favorite hot drink here is the Peppermint white chocolate mocha and cold drink is Green tea frappuccino. I highly recommend signing up for their rewards program as the prices of these drinks a little high. Free drinks on your birthday and other free rewards thru out the year. This location always have a friendly staff. I made a mobile order and had accidentally put the wrong location and they gave me my drink anyways!'\n",
      " \"This is a super friendly neighborhood restaurant with great drink prices and terrific appetizers! Our group of 5 was treated to a gracious welcome on a bitterly cold night, and our server Allie was efficient and friendly. We loved the carrot hummus and the pig candy appetizers along with the cauliflower hand pies! Our main dishes were well-prepared if a little under-seasoned. We enjoyed excellent short ribs, Atlantic Char, and tender pork chops. Some of the roasted vegetables had a bit too much pickling vinegar, but there were enough other offerings that it didn't matter. We liked the root vegetable bread pudding and the roasted broccoli in the veggie board, but the Brussel sprouts were a bit less tasty than we had hoped. Overall, this is great American food with a lighter touch, and the service was fantastic!\"\n",
      " \"What an unbelievable find! A gem!  We were vacationing, staying in a nearby neighborhood, and needed breakfast. A woman at the local Kroger's suggested Monell's which was within walking distance. Out of all the places we ate during our weeklong stay, Monell's for breakfast was the best! It was family style so we got to sit with a family from London. Breakfast started with coffee, iced tea and sweet tea, cinnamon rolls and biscuits. Then came sausage gravy, cheesy grits and apples. We were warned to not eat too much! Then came the main breakfast...potatoes, scrambled eggs, pancakes, bacon, sausage and ham...all you can eat!!!  The food was fabulous, the service was great and the atmosphere was awesome! I highly recommend Monell's!!!\"]\n"
     ]
    },
    {
     "ename": "KeyboardInterrupt",
     "evalue": "",
     "output_type": "error",
     "traceback": [
      "\u001b[1;31m---------------------------------------------------------------------------\u001b[0m",
      "\u001b[1;31mKeyboardInterrupt\u001b[0m                         Traceback (most recent call last)",
      "\u001b[1;32m~\\AppData\\Local\\Temp\\ipykernel_8516\\4287872346.py\u001b[0m in \u001b[0;36m<module>\u001b[1;34m\u001b[0m\n\u001b[0;32m      2\u001b[0m \u001b[1;32mfor\u001b[0m \u001b[0mepoch\u001b[0m \u001b[1;32min\u001b[0m \u001b[0mrange\u001b[0m\u001b[1;33m(\u001b[0m\u001b[0mepochs\u001b[0m\u001b[1;33m)\u001b[0m\u001b[1;33m:\u001b[0m  \u001b[1;31m# Specify the number of epochs you want\u001b[0m\u001b[1;33m\u001b[0m\u001b[1;33m\u001b[0m\u001b[0m\n\u001b[0;32m      3\u001b[0m     \u001b[0mprint\u001b[0m\u001b[1;33m(\u001b[0m\u001b[1;34mf\"Training Word2Vec - Epoch {epoch + 1}\"\u001b[0m\u001b[1;33m)\u001b[0m\u001b[1;33m\u001b[0m\u001b[1;33m\u001b[0m\u001b[0m\n\u001b[1;32m----> 4\u001b[1;33m     \u001b[0mX_train\u001b[0m \u001b[1;33m=\u001b[0m \u001b[0mload_data\u001b[0m\u001b[1;33m(\u001b[0m\u001b[0mjson_file_path\u001b[0m\u001b[1;33m,\u001b[0m \u001b[0mtext_field\u001b[0m\u001b[1;33m,\u001b[0m \u001b[0mchunk_size\u001b[0m\u001b[1;33m=\u001b[0m\u001b[0mchunk_size\u001b[0m\u001b[1;33m,\u001b[0m \u001b[0mpercentage_of_sentences\u001b[0m\u001b[1;33m=\u001b[0m\u001b[1;36m20\u001b[0m\u001b[1;33m)\u001b[0m\u001b[1;33m\u001b[0m\u001b[1;33m\u001b[0m\u001b[0m\n\u001b[0m\u001b[0;32m      5\u001b[0m \u001b[1;33m\u001b[0m\u001b[0m\n\u001b[0;32m      6\u001b[0m     \u001b[1;31m# Update the Word2Vec model with new sentences\u001b[0m\u001b[1;33m\u001b[0m\u001b[1;33m\u001b[0m\u001b[1;33m\u001b[0m\u001b[0m\n",
      "\u001b[1;32m~\\AppData\\Local\\Temp\\ipykernel_8516\\3586087514.py\u001b[0m in \u001b[0;36mload_data\u001b[1;34m(json_file_path, text_field, chunk_size, percentage_of_sentences)\u001b[0m\n\u001b[0;32m      8\u001b[0m \u001b[1;33m\u001b[0m\u001b[0m\n\u001b[0;32m      9\u001b[0m     \u001b[1;31m# Iterate through chunks\u001b[0m\u001b[1;33m\u001b[0m\u001b[1;33m\u001b[0m\u001b[1;33m\u001b[0m\u001b[0m\n\u001b[1;32m---> 10\u001b[1;33m     \u001b[1;32mfor\u001b[0m \u001b[0mchunk\u001b[0m \u001b[1;32min\u001b[0m \u001b[0mchunks\u001b[0m\u001b[1;33m:\u001b[0m\u001b[1;33m\u001b[0m\u001b[1;33m\u001b[0m\u001b[0m\n\u001b[0m\u001b[0;32m     11\u001b[0m         \u001b[1;31m# Extract the text field from the DataFrame\u001b[0m\u001b[1;33m\u001b[0m\u001b[1;33m\u001b[0m\u001b[1;33m\u001b[0m\u001b[0m\n\u001b[0;32m     12\u001b[0m         \u001b[0mchunk_text\u001b[0m \u001b[1;33m=\u001b[0m \u001b[0mchunk\u001b[0m\u001b[1;33m[\u001b[0m\u001b[0mtext_field\u001b[0m\u001b[1;33m]\u001b[0m\u001b[1;33m.\u001b[0m\u001b[0mvalues\u001b[0m\u001b[1;33m\u001b[0m\u001b[1;33m\u001b[0m\u001b[0m\n",
      "\u001b[1;32mC:\\ProgramData\\anaconda3\\envs\\py37\\lib\\site-packages\\pandas\\io\\json\\_json.py\u001b[0m in \u001b[0;36m__next__\u001b[1;34m(self)\u001b[0m\n\u001b[0;32m    796\u001b[0m         \u001b[1;32mif\u001b[0m \u001b[0mlines\u001b[0m\u001b[1;33m:\u001b[0m\u001b[1;33m\u001b[0m\u001b[1;33m\u001b[0m\u001b[0m\n\u001b[0;32m    797\u001b[0m             \u001b[0mlines_json\u001b[0m \u001b[1;33m=\u001b[0m \u001b[0mself\u001b[0m\u001b[1;33m.\u001b[0m\u001b[0m_combine_lines\u001b[0m\u001b[1;33m(\u001b[0m\u001b[0mlines\u001b[0m\u001b[1;33m)\u001b[0m\u001b[1;33m\u001b[0m\u001b[1;33m\u001b[0m\u001b[0m\n\u001b[1;32m--> 798\u001b[1;33m             \u001b[0mobj\u001b[0m \u001b[1;33m=\u001b[0m \u001b[0mself\u001b[0m\u001b[1;33m.\u001b[0m\u001b[0m_get_object_parser\u001b[0m\u001b[1;33m(\u001b[0m\u001b[0mlines_json\u001b[0m\u001b[1;33m)\u001b[0m\u001b[1;33m\u001b[0m\u001b[1;33m\u001b[0m\u001b[0m\n\u001b[0m\u001b[0;32m    799\u001b[0m \u001b[1;33m\u001b[0m\u001b[0m\n\u001b[0;32m    800\u001b[0m             \u001b[1;31m# Make sure that the returned objects have the right index.\u001b[0m\u001b[1;33m\u001b[0m\u001b[1;33m\u001b[0m\u001b[1;33m\u001b[0m\u001b[0m\n",
      "\u001b[1;32mC:\\ProgramData\\anaconda3\\envs\\py37\\lib\\site-packages\\pandas\\io\\json\\_json.py\u001b[0m in \u001b[0;36m_get_object_parser\u001b[1;34m(self, json)\u001b[0m\n\u001b[0;32m    768\u001b[0m         \u001b[0mobj\u001b[0m \u001b[1;33m=\u001b[0m \u001b[1;32mNone\u001b[0m\u001b[1;33m\u001b[0m\u001b[1;33m\u001b[0m\u001b[0m\n\u001b[0;32m    769\u001b[0m         \u001b[1;32mif\u001b[0m \u001b[0mtyp\u001b[0m \u001b[1;33m==\u001b[0m \u001b[1;34m\"frame\"\u001b[0m\u001b[1;33m:\u001b[0m\u001b[1;33m\u001b[0m\u001b[1;33m\u001b[0m\u001b[0m\n\u001b[1;32m--> 770\u001b[1;33m             \u001b[0mobj\u001b[0m \u001b[1;33m=\u001b[0m \u001b[0mFrameParser\u001b[0m\u001b[1;33m(\u001b[0m\u001b[0mjson\u001b[0m\u001b[1;33m,\u001b[0m \u001b[1;33m**\u001b[0m\u001b[0mkwargs\u001b[0m\u001b[1;33m)\u001b[0m\u001b[1;33m.\u001b[0m\u001b[0mparse\u001b[0m\u001b[1;33m(\u001b[0m\u001b[1;33m)\u001b[0m\u001b[1;33m\u001b[0m\u001b[1;33m\u001b[0m\u001b[0m\n\u001b[0m\u001b[0;32m    771\u001b[0m \u001b[1;33m\u001b[0m\u001b[0m\n\u001b[0;32m    772\u001b[0m         \u001b[1;32mif\u001b[0m \u001b[0mtyp\u001b[0m \u001b[1;33m==\u001b[0m \u001b[1;34m\"series\"\u001b[0m \u001b[1;32mor\u001b[0m \u001b[0mobj\u001b[0m \u001b[1;32mis\u001b[0m \u001b[1;32mNone\u001b[0m\u001b[1;33m:\u001b[0m\u001b[1;33m\u001b[0m\u001b[1;33m\u001b[0m\u001b[0m\n",
      "\u001b[1;32mC:\\ProgramData\\anaconda3\\envs\\py37\\lib\\site-packages\\pandas\\io\\json\\_json.py\u001b[0m in \u001b[0;36mparse\u001b[1;34m(self)\u001b[0m\n\u001b[0;32m    883\u001b[0m \u001b[1;33m\u001b[0m\u001b[0m\n\u001b[0;32m    884\u001b[0m         \u001b[1;32melse\u001b[0m\u001b[1;33m:\u001b[0m\u001b[1;33m\u001b[0m\u001b[1;33m\u001b[0m\u001b[0m\n\u001b[1;32m--> 885\u001b[1;33m             \u001b[0mself\u001b[0m\u001b[1;33m.\u001b[0m\u001b[0m_parse_no_numpy\u001b[0m\u001b[1;33m(\u001b[0m\u001b[1;33m)\u001b[0m\u001b[1;33m\u001b[0m\u001b[1;33m\u001b[0m\u001b[0m\n\u001b[0m\u001b[0;32m    886\u001b[0m \u001b[1;33m\u001b[0m\u001b[0m\n\u001b[0;32m    887\u001b[0m         \u001b[1;32mif\u001b[0m \u001b[0mself\u001b[0m\u001b[1;33m.\u001b[0m\u001b[0mobj\u001b[0m \u001b[1;32mis\u001b[0m \u001b[1;32mNone\u001b[0m\u001b[1;33m:\u001b[0m\u001b[1;33m\u001b[0m\u001b[1;33m\u001b[0m\u001b[0m\n",
      "\u001b[1;32mC:\\ProgramData\\anaconda3\\envs\\py37\\lib\\site-packages\\pandas\\io\\json\\_json.py\u001b[0m in \u001b[0;36m_parse_no_numpy\u001b[1;34m(self)\u001b[0m\n\u001b[0;32m   1138\u001b[0m         \u001b[1;32mif\u001b[0m \u001b[0morient\u001b[0m \u001b[1;33m==\u001b[0m \u001b[1;34m\"columns\"\u001b[0m\u001b[1;33m:\u001b[0m\u001b[1;33m\u001b[0m\u001b[1;33m\u001b[0m\u001b[0m\n\u001b[0;32m   1139\u001b[0m             self.obj = DataFrame(\n\u001b[1;32m-> 1140\u001b[1;33m                 \u001b[0mloads\u001b[0m\u001b[1;33m(\u001b[0m\u001b[0mjson\u001b[0m\u001b[1;33m,\u001b[0m \u001b[0mprecise_float\u001b[0m\u001b[1;33m=\u001b[0m\u001b[0mself\u001b[0m\u001b[1;33m.\u001b[0m\u001b[0mprecise_float\u001b[0m\u001b[1;33m)\u001b[0m\u001b[1;33m,\u001b[0m \u001b[0mdtype\u001b[0m\u001b[1;33m=\u001b[0m\u001b[1;32mNone\u001b[0m\u001b[1;33m\u001b[0m\u001b[1;33m\u001b[0m\u001b[0m\n\u001b[0m\u001b[0;32m   1141\u001b[0m             )\n\u001b[0;32m   1142\u001b[0m         \u001b[1;32melif\u001b[0m \u001b[0morient\u001b[0m \u001b[1;33m==\u001b[0m \u001b[1;34m\"split\"\u001b[0m\u001b[1;33m:\u001b[0m\u001b[1;33m\u001b[0m\u001b[1;33m\u001b[0m\u001b[0m\n",
      "\u001b[1;31mKeyboardInterrupt\u001b[0m: "
     ]
    }
   ],
   "source": [
    "# Load and preprocess the data (20% of sentences)\n",
    "for epoch in range(epochs):  # Specify the number of epochs you want\n",
    "    print(f\"Training Word2Vec - Epoch {epoch + 1}\")\n",
    "    X_train = load_data(json_file_path, text_field, chunk_size=chunk_size, percentage_of_sentences=20)\n",
    "    \n",
    "    # Update the Word2Vec model with new sentences\n",
    "    word2vec.build_vocab(X_train, update=True)\n",
    "    word2vec.train(X_train, total_examples=word2vec.corpus_count, epochs=word2vec.epochs)"
   ]
  },
  {
   "cell_type": "code",
   "execution_count": null,
   "id": "f3825f51",
   "metadata": {},
   "outputs": [],
   "source": [
    "# Save the trained Word2Vec model\n",
    "word2vec.save(\"word2vec.model\")"
   ]
  },
  {
   "cell_type": "code",
   "execution_count": null,
   "id": "4f2effc4",
   "metadata": {},
   "outputs": [
    {
     "name": "stdout",
     "output_type": "stream",
     "text": [
      "Training Word2Vec - Epoch 1\n"
     ]
    }
   ],
   "source": [
    "import numpy as np\n",
    "import pandas as pd\n",
    "from tensorflow.keras.preprocessing.text import text_to_word_sequence\n",
    "from gensim.models import Word2Vec\n",
    "\n",
    "# Function to load and preprocess the reviews dataset in chunks\n",
    "def load_data(json_file_path, text_field, chunk_size=None, percentage_of_sentences=None):\n",
    "    # Load the JSON data in chunks using pandas\n",
    "    chunks = pd.read_json(json_file_path, lines=True, chunksize=chunk_size)\n",
    "\n",
    "    # Initialize empty list to store sentences\n",
    "    sentences = []\n",
    "\n",
    "    # Iterate through chunks\n",
    "    for chunk in chunks:\n",
    "        # Extract the text field from the DataFrame\n",
    "        chunk_text = chunk[text_field].values\n",
    "\n",
    "        # Take only a given percentage of the current chunk if specified\n",
    "        if percentage_of_sentences is not None:\n",
    "            assert (percentage_of_sentences > 0 and percentage_of_sentences <= 100)\n",
    "            \n",
    "            len_chunk = int(percentage_of_sentences / 100 * len(chunk_text))\n",
    "            chunk_text = chunk_text[:len_chunk]\n",
    "\n",
    "        # Tokenize the sentences\n",
    "        chunk_tokens = [text_to_word_sequence(_) for _ in chunk_text]\n",
    "        \n",
    "        # Append the tokenized sentences to the list\n",
    "        sentences.extend(chunk_tokens)\n",
    "\n",
    "    return sentences\n",
    "\n",
    "# Specify the path to your JSON file and the field containing the review text\n",
    "json_file_path = r'C:\\Users\\Administrator\\Documents\\GitHub\\Datasets\\yelp_academic_dataset_review.json'\n",
    "text_field = 'text'\n",
    "chunk_size = 5000  # Adjust the chunk size based on your available memory\n",
    "# Initialize Word2Vec model outside the loop\n",
    "word2vec = Word2Vec(vector_size=60, window=10, min_count=10, workers=4)\n",
    "# Specify the number of epochs you want\n",
    "epochs = 10\n",
    "# Load and preprocess the data (20% of sentences)\n",
    "for epoch in range(epochs):\n",
    "    print(f\"Training Word2Vec - Epoch {epoch + 1}\")\n",
    "    X_train = load_data(json_file_path, text_field, chunk_size=chunk_size, percentage_of_sentences=20)\n",
    "    \n",
    "    # Update the Word2Vec model with new sentences\n",
    "    word2vec.build_vocab(X_train, update=True)\n",
    "    word2vec.train(X_train, total_examples=word2vec.corpus_count, epochs=word2vec.epochs)\n",
    "\n",
    "# Save the model\n",
    "word2vec.save(\"word2vec_model\")\n"
   ]
  },
  {
   "cell_type": "code",
   "execution_count": null,
   "id": "5d88f10f",
   "metadata": {},
   "outputs": [],
   "source": []
  }
 ],
 "metadata": {
  "kernelspec": {
   "display_name": "Python 3 (ipykernel)",
   "language": "python",
   "name": "python3"
  },
  "language_info": {
   "codemirror_mode": {
    "name": "ipython",
    "version": 3
   },
   "file_extension": ".py",
   "mimetype": "text/x-python",
   "name": "python",
   "nbconvert_exporter": "python",
   "pygments_lexer": "ipython3",
   "version": "3.7.16"
  }
 },
 "nbformat": 4,
 "nbformat_minor": 5
}
