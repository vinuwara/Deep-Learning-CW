import os
import pandas as pd
import numpy as np
from tensorflow.keras.models import load_model
from tensorflow.keras.preprocessing.text import Tokenizer
from tensorflow.keras.preprocessing.sequence import pad_sequences

# Assuming you have a test dataset similar to the one used in training
test_data_path = 'path_to_test_data.json'

# Load the saved model
saved_model_path = 'RNN_model_final.h5'
loaded_model = load_model(saved_model_path)

# Load and preprocess the test data
test_data = pd.read_json(test_data_path, lines=True)

# Preprocess the text data similar to training
texts = test_data['text'].tolist()
tokenizer = Tokenizer(num_words=10000, oov_token='<OOV>')
tokenizer.fit_on_texts(texts)
sequences = tokenizer.texts_to_sequences(texts)
max_len = 100
padded_sequences = pad_sequences(sequences, maxlen=max_len, padding='post', truncating='post')

# Perform predictions on the test data using the loaded model
predictions = loaded_model.predict(padded_sequences)

# Assuming 'predictions' contains the model predictions, you can use these predictions as needed
# For example, if you want the predicted classes:
predicted_classes = np.argmax(predictions, axis=1)
print(predicted_classes)
