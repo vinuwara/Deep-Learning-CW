{
 "cells": [
  {
   "cell_type": "code",
   "execution_count": null,
   "id": "caaf57b8",
   "metadata": {},
   "outputs": [],
   "source": [
    "import os\n",
    "import pandas as pd\n",
    "import numpy as np\n",
    "from tensorflow.keras.models import load_model\n",
    "from tensorflow.keras.preprocessing.sequence import pad_sequences"
   ]
  },
  {
   "cell_type": "code",
   "execution_count": null,
   "id": "5c5dfd0b",
   "metadata": {},
   "outputs": [],
   "source": [
    "# Assuming you have a test dataset similar to the one used in training\n",
    "test_data_path = 'path_to_test_data.json'\n",
    "saved_model_path = 'RNN_model_final.h5'"
   ]
  },
  {
   "cell_type": "code",
   "execution_count": null,
   "id": "6d706a96",
   "metadata": {},
   "outputs": [],
   "source": [
    "# Load the saved model\n",
    "try:\n",
    "    loaded_model = load_model(saved_model_path)\n",
    "except Exception as e:\n",
    "    print(f\"Error loading the model: {e}\")\n",
    "    # Handle the error accordingly"
   ]
  },
  {
   "cell_type": "code",
   "execution_count": null,
   "id": "75969e75",
   "metadata": {},
   "outputs": [],
   "source": [
    "# Load and preprocess the test data\n",
    "try:\n",
    "    test_data = pd.read_json(test_data_path, lines=True)\n",
    "except Exception as e:\n",
    "    print(f\"Error loading test data: {e}\")\n",
    "    # Handle the error accordingly"
   ]
  },
  {
   "cell_type": "code",
   "execution_count": null,
   "id": "00e52109",
   "metadata": {},
   "outputs": [],
   "source": [
    "# Preprocess the text data using the tokenizer fitted on the training data\n",
    "texts = test_data['text'].tolist()\n",
    "# Assuming tokenizer is already fitted on the training data and saved as tokenizer\n",
    "tokenizer = tokenizer_from_training  # Use the tokenizer fitted on the training data\n",
    "sequences = tokenizer.texts_to_sequences(texts)\n",
    "max_len = 100  # Use the same max_len used during training\n",
    "padded_sequences = pad_sequences(sequences, maxlen=max_len, padding='post', truncating='post')"
   ]
  },
  {
   "cell_type": "code",
   "execution_count": null,
   "id": "1309c6ce",
   "metadata": {},
   "outputs": [],
   "source": [
    "# Perform predictions on the test data using the loaded model\n",
    "predictions = loaded_model.predict(padded_sequences)"
   ]
  },
  {
   "cell_type": "code",
   "execution_count": null,
   "id": "72966573",
   "metadata": {},
   "outputs": [],
   "source": [
    "# Assuming 'predictions' contains the model predictions, you can use these predictions as needed\n",
    "# For example, if you want the predicted classes:\n",
    "predicted_classes = np.argmax(predictions, axis=1)\n",
    "print(predicted_classes)"
   ]
  }
 ],
 "metadata": {
  "kernelspec": {
   "display_name": "Python 3 (ipykernel)",
   "language": "python",
   "name": "python3"
  },
  "language_info": {
   "codemirror_mode": {
    "name": "ipython",
    "version": 3
   },
   "file_extension": ".py",
   "mimetype": "text/x-python",
   "name": "python",
   "nbconvert_exporter": "python",
   "pygments_lexer": "ipython3",
   "version": "3.9.13"
  }
 },
 "nbformat": 4,
 "nbformat_minor": 5
}
