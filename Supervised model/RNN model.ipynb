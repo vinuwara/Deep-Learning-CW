{
 "cells": [
  {
   "cell_type": "markdown",
   "id": "f6d47912",
   "metadata": {},
   "source": [
    "# Sentiment Analysis using - RNN model"
   ]
  },
  {
   "cell_type": "code",
   "execution_count": 1,
   "id": "a9581e04",
   "metadata": {},
   "outputs": [],
   "source": [
    "import pandas as pd\n",
    "import json\n",
    "import numpy as np\n",
    "from sklearn.model_selection import train_test_split\n",
    "from tensorflow.keras.preprocessing.text import Tokenizer\n",
    "from tensorflow.keras.preprocessing.sequence import pad_sequences\n",
    "from tensorflow.keras.models import Sequential\n",
    "from tensorflow.keras.layers import Embedding, LSTM, Dense\n",
    "from tensorflow.keras.optimizers import Adam"
   ]
  },
  {
   "cell_type": "code",
   "execution_count": 2,
   "id": "3641d7b8",
   "metadata": {},
   "outputs": [],
   "source": [
    "# Initialize an empty list to store chunks\n",
    "chunk_size = 5000\n",
    "chunks = []"
   ]
  },
  {
   "cell_type": "code",
   "execution_count": 3,
   "id": "fa848ee5",
   "metadata": {},
   "outputs": [],
   "source": [
    "# File path to JSON dataset\n",
    "file_path = r'C:\\Users\\Administrator\\Documents\\GitHub\\Datasets\\yelp_academic_dataset_review.json'\n",
    "\n",
    "# Load data in chunks\n",
    "for chunk in pd.read_json(file_path, lines=True, chunksize=chunk_size):\n",
    "    chunks.append(chunk)"
   ]
  },
  {
   "cell_type": "code",
   "execution_count": 4,
   "id": "5e31e549",
   "metadata": {},
   "outputs": [],
   "source": [
    "# Concatenate all chunks into a single DataFrame\n",
    "data = pd.concat(chunks, ignore_index=True)"
   ]
  },
  {
   "cell_type": "code",
   "execution_count": 5,
   "id": "a9a7016d",
   "metadata": {},
   "outputs": [],
   "source": [
    "# Accessing the data DataFrame\n",
    "texts = data['text'].tolist()\n",
    "labels = data['stars'].tolist()  "
   ]
  },
  {
   "cell_type": "code",
   "execution_count": 6,
   "id": "5f490fa2",
   "metadata": {},
   "outputs": [],
   "source": [
    "# Tokenize the text\n",
    "max_words = 10000  # Adjust as needed\n",
    "tokenizer = Tokenizer(num_words=max_words, oov_token='<OOV>')\n",
    "tokenizer.fit_on_texts(texts)\n",
    "sequences = tokenizer.texts_to_sequences(texts)"
   ]
  },
  {
   "cell_type": "code",
   "execution_count": 7,
   "id": "dfecbf57",
   "metadata": {},
   "outputs": [],
   "source": [
    "# Padding sequences\n",
    "max_len = 100  # Adjust as needed\n",
    "padded_sequences = pad_sequences(sequences, maxlen=max_len, padding='post', truncating='post')"
   ]
  },
  {
   "cell_type": "code",
   "execution_count": 8,
   "id": "61ba6aeb",
   "metadata": {},
   "outputs": [],
   "source": [
    "# Convert labels to numerical format\n",
    "# For regression, you can use the star ratings directly\n",
    "numeric_labels = np.array(labels)"
   ]
  },
  {
   "cell_type": "code",
   "execution_count": 9,
   "id": "f3333a9d",
   "metadata": {},
   "outputs": [],
   "source": [
    "# Split the dataset into training and testing sets\n",
    "x_train, x_test, y_train, y_test = train_test_split(padded_sequences, numeric_labels, test_size=0.2, random_state=42)"
   ]
  },
  {
   "cell_type": "code",
   "execution_count": 10,
   "id": "ed0e865a",
   "metadata": {},
   "outputs": [],
   "source": [
    "# Build the RNN model\n",
    "embedding_dim = 50  # Adjust as needed\n",
    "model = Sequential()\n",
    "model.add(Embedding(input_dim=max_words, output_dim=embedding_dim, input_length=max_len))\n",
    "model.add(LSTM(100))\n",
    "model.add(Dense(1, activation='linear'))  # Used linear activation for regression\n"
   ]
  },
  {
   "cell_type": "code",
   "execution_count": 11,
   "id": "604a127d",
   "metadata": {},
   "outputs": [],
   "source": [
    "# Compile the model\n",
    "model.compile(optimizer=Adam(learning_rate=0.001), loss='mean_squared_error')  # Use mean squared error for regression\n"
   ]
  },
  {
   "cell_type": "code",
   "execution_count": 12,
   "id": "a8b51f3e",
   "metadata": {
    "scrolled": false
   },
   "outputs": [
    {
     "name": "stdout",
     "output_type": "stream",
     "text": [
      "Epoch 1/5\n",
      "39321/39321 [==============================] - 4232s 107ms/step - loss: 0.4687 - val_loss: 0.3838\n",
      "Epoch 2/5\n",
      "39321/39321 [==============================] - 3987s 101ms/step - loss: 0.3656 - val_loss: 0.3650\n",
      "Epoch 3/5\n",
      "39321/39321 [==============================] - 4049s 103ms/step - loss: 0.3403 - val_loss: 0.3546\n",
      "Epoch 4/5\n",
      "39321/39321 [==============================] - 4084s 104ms/step - loss: 0.3247 - val_loss: 0.3542\n",
      "Epoch 5/5\n",
      "39321/39321 [==============================] - 4104s 104ms/step - loss: 0.3134 - val_loss: 0.3499\n"
     ]
    },
    {
     "data": {
      "text/plain": [
       "<keras.src.callbacks.History at 0x166261d64d0>"
      ]
     },
     "execution_count": 12,
     "metadata": {},
     "output_type": "execute_result"
    }
   ],
   "source": [
    "# Train the model\n",
    "batch_size = 128  # Adjust as needed\n",
    "epochs = 5  # Adjust as needed\n",
    "model.fit(x_train, y_train, epochs=epochs, batch_size=batch_size, validation_split=0.1)"
   ]
  },
  {
   "cell_type": "code",
   "execution_count": null,
   "id": "a1ac6879",
   "metadata": {},
   "outputs": [],
   "source": [
    "# Evaluate the model\n",
    "mse = model.evaluate(x_test, y_test)\n",
    "print(f'Test Mean Squared Error: {mse}')"
   ]
  },
  {
   "cell_type": "code",
   "execution_count": null,
   "id": "b819bbf6",
   "metadata": {},
   "outputs": [],
   "source": [
    "# Save the entire model to a HDF5 file\n",
    "model.save('sentiment_analysis_rnn_model.h5')"
   ]
  }
 ],
 "metadata": {
  "kernelspec": {
   "display_name": "Python 3 (ipykernel)",
   "language": "python",
   "name": "python3"
  },
  "language_info": {
   "codemirror_mode": {
    "name": "ipython",
    "version": 3
   },
   "file_extension": ".py",
   "mimetype": "text/x-python",
   "name": "python",
   "nbconvert_exporter": "python",
   "pygments_lexer": "ipython3",
   "version": "3.11.5"
  }
 },
 "nbformat": 4,
 "nbformat_minor": 5
}
