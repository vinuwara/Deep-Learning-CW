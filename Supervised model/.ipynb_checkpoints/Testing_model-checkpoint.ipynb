{
 "cells": [
  {
   "cell_type": "code",
   "execution_count": null,
   "id": "a8da56e8",
   "metadata": {},
   "outputs": [],
   "source": [
    "import pandas as pd\n",
    "from tensorflow.keras.models import load_model\n",
    "from tensorflow.keras.preprocessing.text import Tokenizer\n",
    "from tensorflow.keras.preprocessing.sequence import pad_sequences\n",
    "\n",
    "# Load the sentiment analysis model\n",
    "model = load_model('sentiment_analysis_rnn_model.h5')\n",
    "\n",
    "# Sample dataset\n",
    "dataset = [\n",
    "    {\n",
    "        \"review_id\": \"KU_O5udG6zpxOg-VcAEodg\",\n",
    "        \"user_id\": \"mh_-eMZ6K5RLWhZyISBhwA\",\n",
    "        \"business_id\": \"XQfwVwDr-v0ZS3_CbbE5Xw\",\n",
    "        \"stars\": 3.0,\n",
    "        \"useful\": 0,\n",
    "        \"funny\": 0,\n",
    "        \"cool\": 0,\n",
    "        \"text\": \"If you decide to eat here, just be aware it is going to take about 2 hours from beginning to end. We have tried it multiple times, because I want to like it! I have been to it's other locations in NJ and never had a bad experience. The food is good, but it takes a very long time to come out. The waitstaff is very young, but usually pleasant. We have just had too many experiences where we spent way too long waiting. We usually opt for another diner or restaurant on the weekends, in order to be done quicker.\",\n",
    "        \"date\": \"2018-07-07 22:09:11\"\n",
    "    }\n",
    "]\n",
    "\n",
    "# Extract text from the dataset\n",
    "texts = [item['text'] for item in dataset]\n",
    "\n",
    "# Tokenize and pad the sequences\n",
    "max_words = 10000\n",
    "max_len = 100\n",
    "tokenizer = Tokenizer(num_words=max_words, oov_token='<OOV>')\n",
    "tokenizer.fit_on_texts(texts)\n",
    "sequences = tokenizer.texts_to_sequences(texts)\n",
    "padded_sequences = pad_sequences(sequences, maxlen=max_len, padding='post', truncating='post')\n",
    "\n",
    "# Predict sentiment scores\n",
    "sentiment_scores = model.predict(padded_sequences)\n",
    "\n",
    "# Map sentiment scores to labels (e.g., positive, neutral, negative)\n",
    "sentiment_labels = [\"Positive\" if score > 0.5 else \"Negative\" for score in sentiment_scores]\n",
    "\n",
    "# Add sentiment labels to the dataset\n",
    "for i, item in enumerate(dataset):\n",
    "    item['sentiment'] = sentiment_labels[i]\n",
    "\n",
    "# Display the results\n",
    "result_df = pd.DataFrame(dataset)\n",
    "print(result_df[['review_id', 'text', 'sentiment']])\n"
   ]
  }
 ],
 "metadata": {
  "kernelspec": {
   "display_name": "Python 3 (ipykernel)",
   "language": "python",
   "name": "python3"
  },
  "language_info": {
   "codemirror_mode": {
    "name": "ipython",
    "version": 3
   },
   "file_extension": ".py",
   "mimetype": "text/x-python",
   "name": "python",
   "nbconvert_exporter": "python",
   "pygments_lexer": "ipython3",
   "version": "3.11.5"
  }
 },
 "nbformat": 4,
 "nbformat_minor": 5
}
